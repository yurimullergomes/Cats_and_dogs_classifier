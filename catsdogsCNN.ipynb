{
 "cells": [
  {
   "cell_type": "code",
   "execution_count": 15,
   "metadata": {},
   "outputs": [],
   "source": [
    "import tensorflow as tf\n",
    "from tensorflow.keras.datasets import cifar10\n",
    "from tensorflow.keras.preprocessing.image import ImageDataGenerator\n",
    "from tensorflow.keras.models import Sequential  # for a sequential model \n",
    "from tensorflow.keras.layers import Dense, Dropout, Activation, Flatten\n",
    "from tensorflow.keras.layers import Conv2D, MaxPooling2D\n",
    "from tensorflow.keras.callbacks import TensorBoard\n",
    "import pickle\n",
    "import time\n",
    "\n",
    "pickle_in = open(\"Xcd.pickle\",\"rb\")\n",
    "X = pickle.load(pickle_in)\n",
    "\n",
    "pickle_in = open(\"ycd.pickle\",\"rb\")\n",
    "y = pickle.load(pickle_in)\n",
    "\n",
    "X = X/255.0 #normalizing data\n",
    "\n",
    "NAME = \"cats-vc-dogs-cnn-64x2-{}\".format(int(time.time()))"
   ]
  },
  {
   "cell_type": "code",
   "execution_count": 16,
   "metadata": {},
   "outputs": [],
   "source": [
    "tensorboard = TensorBoard(log_dir = 'logs/{}'.format(NAME))"
   ]
  },
  {
   "cell_type": "code",
   "execution_count": 17,
   "metadata": {},
   "outputs": [],
   "source": [
    "import matplotlib.pyplot as plt\n",
    "import numpy as np\n",
    "%matplotlib inline\n"
   ]
  },
  {
   "cell_type": "markdown",
   "metadata": {},
   "source": [
    "# The CNN Model"
   ]
  },
  {
   "cell_type": "code",
   "execution_count": 19,
   "metadata": {},
   "outputs": [
    {
     "name": "stdout",
     "output_type": "stream",
     "text": [
      "Train on 17462 samples, validate on 7484 samples\n",
      "Epoch 1/5\n",
      "17462/17462 [==============================] - 1184s 68ms/step - loss: 0.6740 - acc: 0.5723 - val_loss: 0.6413 - val_acc: 0.6209\n",
      "Epoch 2/5\n",
      "17462/17462 [==============================] - 1183s 68ms/step - loss: 0.5959 - acc: 0.6836 - val_loss: 0.5748 - val_acc: 0.6979\n",
      "Epoch 3/5\n",
      "17462/17462 [==============================] - 1138s 65ms/step - loss: 0.5133 - acc: 0.7481 - val_loss: 0.5170 - val_acc: 0.7505\n",
      "Epoch 4/5\n",
      "17462/17462 [==============================] - 1164s 67ms/step - loss: 0.4533 - acc: 0.7876 - val_loss: 0.4850 - val_acc: 0.7670\n",
      "Epoch 5/5\n",
      "17462/17462 [==============================] - 1175s 67ms/step - loss: 0.4060 - acc: 0.8140 - val_loss: 0.4694 - val_acc: 0.7769\n"
     ]
    },
    {
     "data": {
      "text/plain": [
       "<tensorflow.python.keras.callbacks.History at 0x19eda443cc0>"
      ]
     },
     "execution_count": 19,
     "metadata": {},
     "output_type": "execute_result"
    }
   ],
   "source": [
    "model = Sequential()\n",
    "\n",
    "model.add(Conv2D(256, (3, 3), input_shape=X.shape[1:])) #first we apply a convolution operator\n",
    "model.add(Activation('relu'))                           #\n",
    "model.add(MaxPooling2D(pool_size=(2, 2)))               # here we define the first layer\n",
    "\n",
    "\n",
    "model.add(Conv2D(256, (3, 3)))                          #\n",
    "model.add(Activation('relu'))                           #\n",
    "model.add(MaxPooling2D(pool_size=(2, 2)))               # the second layer\n",
    "\n",
    "model.add(Conv2D(256, (3, 3)))                          #\n",
    "model.add(Activation('relu'))                           #\n",
    "model.add(MaxPooling2D(pool_size=(2, 2))) \n",
    "\n",
    "model.add(Flatten())                                    # this converts our 3D feature maps to 1D feature vectors\n",
    "model.add(Dense(64))                                    #the thirs layer \n",
    "\n",
    "\n",
    "model.add(Dense(1))                                     # #1 for 0/1 answer (cat or dog)\n",
    "model.add(Activation('sigmoid'))                        #final activation function\n",
    "                                                        #The output layer\n",
    "\n",
    "model.compile(loss='binary_crossentropy',               #\n",
    "              optimizer='adam',\n",
    "              metrics=['accuracy'])                     #\n",
    "\n",
    "model.fit(X, y, batch_size=32, epochs=5, validation_split=0.3,callbacks=[tensorboard])"
   ]
  },
  {
   "cell_type": "code",
   "execution_count": 20,
   "metadata": {},
   "outputs": [],
   "source": [
    "model.save('catsdogsclass.model') #save the model"
   ]
  },
  {
   "cell_type": "code",
   "execution_count": 9,
   "metadata": {},
   "outputs": [],
   "source": [
    "#predictions = new_model.predict([X_test]) #testing the model "
   ]
  }
 ],
 "metadata": {
  "kernelspec": {
   "display_name": "Python 3",
   "language": "python",
   "name": "python3"
  },
  "language_info": {
   "codemirror_mode": {
    "name": "ipython",
    "version": 3
   },
   "file_extension": ".py",
   "mimetype": "text/x-python",
   "name": "python",
   "nbconvert_exporter": "python",
   "pygments_lexer": "ipython3",
   "version": "3.6.1"
  }
 },
 "nbformat": 4,
 "nbformat_minor": 2
}
